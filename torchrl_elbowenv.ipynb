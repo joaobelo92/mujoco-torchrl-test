{
 "cells": [
  {
   "cell_type": "code",
   "execution_count": 1,
   "id": "e585a9c0-6d81-4278-bc11-f5551f175a0b",
   "metadata": {
    "tags": []
   },
   "outputs": [],
   "source": [
    "from collections import defaultdict\n",
    "from typing import Optional\n",
    "\n",
    "import numpy as np\n",
    "import torch\n",
    "import tqdm\n",
    "from tensordict.nn import TensorDictModule\n",
    "from tensordict.tensordict import TensorDict, TensorDictBase\n",
    "from torch import nn\n",
    "\n",
    "from torchrl.data import BoundedTensorSpec, CompositeSpec, UnboundedContinuousTensorSpec\n",
    "from torchrl.envs import (\n",
    "    CatTensors,\n",
    "    EnvBase,\n",
    "    Transform,\n",
    "    TransformedEnv,\n",
    "    UnsqueezeTransform,\n",
    ")\n",
    "from torchrl.envs.transforms.transforms import _apply_to_composite\n",
    "from torchrl.envs.utils import check_env_specs, step_mdp"
   ]
  },
  {
   "cell_type": "code",
   "execution_count": 2,
   "id": "9ff4549b-35e0-46b5-857d-2771f22e7d31",
   "metadata": {
    "tags": []
   },
   "outputs": [
    {
     "name": "stdout",
     "output_type": "stream",
     "text": [
      "--- Body ---\n",
      "world\n",
      "full_body\n",
      "base\n",
      "r_humerus\n",
      "r_ulna_radius_hand\n",
      "\n",
      "\n",
      "--- Joints ---\n",
      "r_shoulder_elev\n",
      "r_elbow_flex\n",
      "\n",
      "\n",
      "--- Muscles / Actuators ---\n",
      "TRIlong\n",
      "TRIlat\n",
      "TRImed\n",
      "BIClong\n",
      "BICshort\n",
      "BRA\n",
      "\n",
      "\n",
      "--- Control inputs for actuators ---\n",
      "[0. 0. 0. 0. 0. 0.]\n",
      "\n",
      "\n",
      "Number of position coordinates: 2\n",
      "\n",
      "\n",
      "['floor', '', '', '', 'body', 'arm_r_humerus', 'TRIlonghh_wrap', 'BIClonghh_wrap', 'TRI_wrap', 'arm_r_ulna', 'arm_r_radius', 'arm_r_lunate', 'arm_r_scaphoid', 'arm_r_pisiform', 'arm_r_triquetrum', 'arm_r_capitate', 'arm_r_trapezium', 'arm_r_trapezoid', 'arm_r_hamate', 'arm_r_1mc', 'arm_r_2mc', 'arm_r_3mc', 'arm_r_4mc', 'arm_r_5mc', 'arm_r_thumbprox', 'arm_r_thumbdist', 'arm_r_2proxph', 'arm_r_2midph', 'arm_r_2distph', 'arm_r_3proxph', 'arm_r_3midph', 'arm_r_3distph', 'arm_r_4proxph', 'arm_r_4midph', 'arm_r_4distph', 'arm_r_5proxph', 'arm_r_5midph', 'arm_r_5distph']\n",
      "\n",
      "\n",
      "Named access: [-0.24160722  0.07148558  0.8348181 ]\n",
      "\n",
      "\n",
      "Total number of DoFs in the model: 2\n",
      "Generalized positions: [-4.10965221e-06  8.78631573e-05]\n",
      "Generalized velocities: [-0.00205483  0.04393158]\n",
      "Actuators: [0.0004 0.0004 0.0004 0.0004 0.0004 0.0004]\n"
     ]
    }
   ],
   "source": [
    "import time\n",
    "\n",
    "import mujoco\n",
    "import mujoco.viewer\n",
    "\n",
    "model = mujoco.MjModel.from_xml_path('./myo_sim/elbow/myoelbow_2dof6muscles.xml')\n",
    "data = mujoco.MjData(model)\n",
    "\n",
    "print(\"--- Body ---\")\n",
    "for i in range(model.nbody):\n",
    "    # print(m.body(i)) / to print the struct\n",
    "    print(model.body(i).name)\n",
    "print(\"\\n\")\n",
    "\n",
    "print(\"--- Joints ---\")\n",
    "for i in range(model.njnt):\n",
    "    print(model.jnt(i).name)\n",
    "print(\"\\n\")\n",
    "\n",
    "print(\"--- Muscles / Actuators ---\")\n",
    "for i in range(model.nu):\n",
    "    print(model.actuator(i).name)\n",
    "print(\"\\n\")\n",
    "\n",
    "print(\"--- Control inputs for actuators ---\")\n",
    "print(data.ctrl)\n",
    "print(\"\\n\")\n",
    "\n",
    "print(f\"Number of position coordinates: {model.nq}\")\n",
    "print(\"\\n\")\n",
    "      \n",
    "print([model.geom(i).name for i in range(model.ngeom)])\n",
    "print(\"\\n\")\n",
    "\n",
    "mujoco.mj_step(model, data)\n",
    "print(f\"Named access: {data.geom('arm_r_trapezium').xpos}\")\n",
    "# print(d.geom_xpos)\n",
    "print(\"\\n\")\n",
    "\n",
    "print('Total number of DoFs in the model:', model.nv)\n",
    "print('Generalized positions:', data.qpos)\n",
    "print('Generalized velocities:', data.qvel)\n",
    "print('Actuators:', data.act)"
   ]
  },
  {
   "cell_type": "code",
   "execution_count": null,
   "id": "87ef1913-733d-42d6-9597-bd6cd55d6113",
   "metadata": {
    "tags": []
   },
   "outputs": [],
   "source": [
    "with mujoco.viewer.launch_passive(model, data) as viewer:\n",
    "    # Close the viewer automatically after 30 wall-seconds.\n",
    "    start = time.time()\n",
    "    while viewer.is_running() and time.time() - start < 30:\n",
    "        step_start = time.time()\n",
    "        \n",
    "        mujoco.mj_step(model, data)\n",
    "        \n",
    "        viewer.sync()\n",
    "        \n",
    "        time_until_next_step = model.opt.timestep - (time.time() - step_start)\n",
    "        if time_until_next_step > 0:\n",
    "            time.sleep(time_until_next_step)\n",
    "        \n",
    "        "
   ]
  },
  {
   "cell_type": "code",
   "execution_count": null,
   "id": "4cf66fd6-8bce-4d2c-bf9f-8145663b5af3",
   "metadata": {},
   "outputs": [],
   "source": [
    "def _step(self, tensordict):\n",
    "    data = tensordict[\"data\"]\n",
    "    \n",
    "    # state is defined by positions and velocities (simplified by mujoco's DoF approach)\n",
    "    # TODO: assess what other information would be valuable for the state\n",
    "    positions = data.qpos\n",
    "    velocities = data.qvel\n",
    "    actuators = data.act\n",
    "    # tweak accordingly to reward function\n",
    "    trapezium_pos = data.geom('arm_r_trapezium').xpos\n",
    "    \n",
    "    # here action should be an array of shape 6\n",
    "    action = tensordict[\"action\"].squeeze(-1)\n",
    "    # activations go from 0 to 1\n",
    "    action = action.clamp(0, 1)\n",
    "    \n",
    "    data.ctrl = action\n",
    "    \n",
    "    mujoco.mj_step(self.model, data)\n",
    "    \n",
    "    # basic starting reward: based on euclidian distance from one joint to arbitrary position in 3D space.\n",
    "    reward = -np.linalg.norm(trapezium_pos - np.array[1, 1, 1])\n",
    "    \n",
    "    done = False\n",
    "    \n",
    "    out = TensorDict(\n",
    "        {\n",
    "            next: {\n",
    "                \"data\": data,\n",
    "                \"positions\": positions,\n",
    "                \"velocities\": velocities,\n",
    "                \"actuators\": actuators,\n",
    "                \"trapezium_pos\": trapezium_pos,\n",
    "                \"action\": action,\n",
    "                \"reward\": reward,\n",
    "                \"done\": done,\n",
    "            }\n",
    "        },\n",
    "        tensordict.shape,\n",
    "    )\n",
    "    return out"
   ]
  },
  {
   "cell_type": "code",
   "execution_count": null,
   "id": "71ccef80-0b5e-4786-b175-0d737b444465",
   "metadata": {
    "tags": []
   },
   "outputs": [],
   "source": [
    "def _reset(self, tensordict):\n",
    "    if tensordict is None or tensordict.is_empty():\n",
    "        data = mujoco.MjData(self.model)\n",
    "    else:\n",
    "        data = mujoco.mj_resetData(self.model, data)\n",
    "    \n",
    "    out = TensorDict(\n",
    "        {\n",
    "            \"data\": data\n",
    "        },\n",
    "        batch_size=tensordict.shape,\n",
    "    )\n",
    "    return out"
   ]
  },
  {
   "cell_type": "code",
   "execution_count": 3,
   "id": "ade42c85-7d91-44a5-a796-1e7761943d50",
   "metadata": {
    "tags": []
   },
   "outputs": [],
   "source": [
    "from torchrl.data import BoundedTensorSpec, CompositeSpec, UnboundedContinuousTensorSpec\n",
    "\n",
    "def _make_spec(self, td_params):\n",
    "    self.observation_spec = CompositeSpec(\n",
    "        positions=UnboundedContinuousTensorSpec(\n",
    "            shape=(2),\n",
    "            dtype=torch.float32,\n",
    "        ),\n",
    "        velocities=UnboundedContinuousTensorSpec(\n",
    "            shape=(2),\n",
    "            dtype=torch.float32,\n",
    "        ),\n",
    "        actuators=BoundedTensorSpec(\n",
    "            minimum=0,\n",
    "            maximum=1,\n",
    "            shape=(6),\n",
    "            dtype=torch.float32,\n",
    "        ),\n",
    "        trapezium_pos=UnboundedContinuousTensorSpec(\n",
    "            shape=(3),\n",
    "            dtype=torch.float32,\n",
    "        ),\n",
    "        shape=(),\n",
    "    )\n",
    "    \n",
    "    self.state_spec = self.observation_spec.clone()\n",
    "    \n",
    "    self.action_spec = BoundedTensorSpec(\n",
    "        minimum=0,\n",
    "        maximum=1,\n",
    "        shape=(6,),\n",
    "        dtype=torch.float32,\n",
    "    )\n",
    "    self.reward_spec = UnboundedContinuousTensorSpec(shape=(*td_params.shape, 1))\n",
    "        "
   ]
  },
  {
   "cell_type": "code",
   "execution_count": 4,
   "id": "81a878aa-e420-4935-975e-8affcc5d8127",
   "metadata": {
    "tags": []
   },
   "outputs": [
    {
     "ename": "NameError",
     "evalue": "name 'Optional' is not defined",
     "output_type": "error",
     "traceback": [
      "\u001b[0;31m---------------------------------------------------------------------------\u001b[0m",
      "\u001b[0;31mNameError\u001b[0m                                 Traceback (most recent call last)",
      "Cell \u001b[0;32mIn[4], line 1\u001b[0m\n\u001b[0;32m----> 1\u001b[0m \u001b[39mdef\u001b[39;00m \u001b[39m_set_seed\u001b[39m(\u001b[39mself\u001b[39m, seed: Optional[\u001b[39mint\u001b[39m]):\n\u001b[1;32m      2\u001b[0m     rng \u001b[39m=\u001b[39m torch\u001b[39m.\u001b[39mmanual_seed(seed)\n\u001b[1;32m      3\u001b[0m     \u001b[39mself\u001b[39m\u001b[39m.\u001b[39mrng \u001b[39m=\u001b[39m rng\n",
      "\u001b[0;31mNameError\u001b[0m: name 'Optional' is not defined"
     ]
    }
   ],
   "source": [
    "def _set_seed(self, seed: Optional[int]):\n",
    "    rng = torch.manual_seed(seed)\n",
    "    self.rng = rng"
   ]
  },
  {
   "cell_type": "code",
   "execution_count": 5,
   "id": "39b742be-3636-4c7f-8051-1f8be8a7c1bd",
   "metadata": {
    "tags": []
   },
   "outputs": [
    {
     "ename": "NameError",
     "evalue": "name 'TensorDictBase' is not defined",
     "output_type": "error",
     "traceback": [
      "\u001b[0;31m---------------------------------------------------------------------------\u001b[0m",
      "\u001b[0;31mNameError\u001b[0m                                 Traceback (most recent call last)",
      "Cell \u001b[0;32mIn[5], line 1\u001b[0m\n\u001b[0;32m----> 1\u001b[0m \u001b[39mdef\u001b[39;00m \u001b[39mgen_params\u001b[39m(batch_size\u001b[39m=\u001b[39m\u001b[39mNone\u001b[39;00m) \u001b[39m-\u001b[39m\u001b[39m>\u001b[39m TensorDictBase:\n\u001b[1;32m      2\u001b[0m     \u001b[39mif\u001b[39;00m batch_size \u001b[39mis\u001b[39;00m \u001b[39mNone\u001b[39;00m:\n\u001b[1;32m      3\u001b[0m         batch_size \u001b[39m=\u001b[39m []\n",
      "\u001b[0;31mNameError\u001b[0m: name 'TensorDictBase' is not defined"
     ]
    }
   ],
   "source": [
    "def gen_params(batch_size=None) -> TensorDictBase:\n",
    "    if batch_size is None:\n",
    "        batch_size = []\n",
    "    td = TensorDict(\n",
    "        {},\n",
    "        [],\n",
    "    )\n",
    "    if batch_size:\n",
    "        td = td.expand(batch_size).contiguous()\n",
    "    return td"
   ]
  },
  {
   "cell_type": "code",
   "execution_count": 6,
   "id": "f80c5c1b-22f2-4389-9b53-0c207ba08747",
   "metadata": {
    "tags": []
   },
   "outputs": [
    {
     "ename": "NameError",
     "evalue": "name 'EnvBase' is not defined",
     "output_type": "error",
     "traceback": [
      "\u001b[0;31m---------------------------------------------------------------------------\u001b[0m",
      "\u001b[0;31mNameError\u001b[0m                                 Traceback (most recent call last)",
      "Cell \u001b[0;32mIn[6], line 1\u001b[0m\n\u001b[0;32m----> 1\u001b[0m \u001b[39mclass\u001b[39;00m \u001b[39mElbowEnv\u001b[39;00m(EnvBase):\n\u001b[1;32m      2\u001b[0m     batch_locked \u001b[39m=\u001b[39m \u001b[39mFalse\u001b[39;00m\n\u001b[1;32m      4\u001b[0m     \u001b[39mdef\u001b[39;00m \u001b[39m__init__\u001b[39m(\u001b[39mself\u001b[39m, td_params\u001b[39m=\u001b[39m\u001b[39mNone\u001b[39;00m, seed\u001b[39m=\u001b[39m\u001b[39mNone\u001b[39;00m, device\u001b[39m=\u001b[39m\u001b[39m\"\u001b[39m\u001b[39mcpu\u001b[39m\u001b[39m\"\u001b[39m):\n",
      "\u001b[0;31mNameError\u001b[0m: name 'EnvBase' is not defined"
     ]
    }
   ],
   "source": [
    "class ElbowEnv(EnvBase):\n",
    "    batch_locked = False\n",
    "    \n",
    "    def __init__(self, td_params=None, seed=None, device=\"cpu\"):\n",
    "        if td_params is None:\n",
    "            td_params = self.gen_params()\n",
    "\n",
    "        super().__init__(device=device, batch_size=[])\n",
    "        self._make_spec(td_params)\n",
    "        if seed is None:\n",
    "            seed = torch.empty((), dtype=torch.int64).random_().item()\n",
    "        self.set_seed(seed)\n",
    "\n",
    "    gen_params = staticmethod(gen_params)\n",
    "    _make_spec = _make_spec\n",
    "\n",
    "    _reset = _reset\n",
    "    _step = staticmethod(_step)\n",
    "    _set_seed = _set_seed"
   ]
  },
  {
   "cell_type": "code",
   "execution_count": 7,
   "id": "d5fc2191-1122-42ac-afb3-7383eed3dd8b",
   "metadata": {
    "tags": []
   },
   "outputs": [
    {
     "ename": "NameError",
     "evalue": "name 'ElbowEnv' is not defined",
     "output_type": "error",
     "traceback": [
      "\u001b[0;31m---------------------------------------------------------------------------\u001b[0m",
      "\u001b[0;31mNameError\u001b[0m                                 Traceback (most recent call last)",
      "Cell \u001b[0;32mIn[7], line 1\u001b[0m\n\u001b[0;32m----> 1\u001b[0m env \u001b[39m=\u001b[39m ElbowEnv()\n\u001b[1;32m      2\u001b[0m check_env_specs(env)\n",
      "\u001b[0;31mNameError\u001b[0m: name 'ElbowEnv' is not defined"
     ]
    }
   ],
   "source": [
    "env = ElbowEnv()\n",
    "check_env_specs(env)"
   ]
  },
  {
   "cell_type": "code",
   "execution_count": null,
   "id": "d68c67aa-5380-436f-acff-9568c6d710c8",
   "metadata": {},
   "outputs": [],
   "source": []
  }
 ],
 "metadata": {
  "kernelspec": {
   "display_name": "Python 3 (ipykernel)",
   "language": "python",
   "name": "python3"
  },
  "language_info": {
   "codemirror_mode": {
    "name": "ipython",
    "version": 3
   },
   "file_extension": ".py",
   "mimetype": "text/x-python",
   "name": "python",
   "nbconvert_exporter": "python",
   "pygments_lexer": "ipython3",
   "version": "3.10.12"
  }
 },
 "nbformat": 4,
 "nbformat_minor": 5
}
